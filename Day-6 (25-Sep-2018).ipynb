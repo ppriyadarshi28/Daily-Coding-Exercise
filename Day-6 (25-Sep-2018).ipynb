{
 "cells": [
  {
   "cell_type": "markdown",
   "metadata": {},
   "source": [
    "ASKED IN FACEBOOK INTERVIEW\n",
    "\n",
    "Problem Statement: If each alphabet is mapped as follows:\n",
    "a -> 1\n",
    "b -> 2\n",
    "c -> 3\n",
    "..\n",
    "..\n",
    "z -> 26\n",
    "Find the number of messages a dataset can represent.\n",
    "\n",
    "For example: \n",
    "1. Dataset '123' represents 3 messages i.e 'abc', 'lc' and 'aw'\n",
    "2. Dataset '263' represents 2 messages i.e 'bfc' and 'zc'\n",
    "3. Dataset '011' represents 0 message as any dataset which starts with 0 does not represent any message\n",
    "4. Dataset '203' represents 1 message i.e 'tc' "
   ]
  },
  {
   "cell_type": "code",
   "execution_count": 17,
   "metadata": {},
   "outputs": [],
   "source": [
    "def msg_num_ways(data,n):\n",
    "    \n",
    "    index = len(data) - n\n",
    "    \n",
    "    #Base case\n",
    "    if n == 0 or n == 1:\n",
    "        return 1\n",
    "    elif data[index] == '0':\n",
    "        return 0\n",
    "    #Recursive case\n",
    "    elif n > 1 and int(data[index:index+2]) > 26:\n",
    "        return msg_num_ways(data,n-1)\n",
    "    else:\n",
    "        return msg_num_ways(data,n-1) + msg_num_ways(data,n-2)\n",
    "    \n",
    "def driver(data):\n",
    "    n = len(data)\n",
    "    return msg_num_ways(data,n)\n",
    "    "
   ]
  },
  {
   "cell_type": "code",
   "execution_count": 19,
   "metadata": {},
   "outputs": [
    {
     "data": {
      "text/plain": [
       "2"
      ]
     },
     "execution_count": 19,
     "metadata": {},
     "output_type": "execute_result"
    }
   ],
   "source": [
    "driver('127')"
   ]
  },
  {
   "cell_type": "code",
   "execution_count": null,
   "metadata": {},
   "outputs": [],
   "source": []
  }
 ],
 "metadata": {
  "kernelspec": {
   "display_name": "Python 3",
   "language": "python",
   "name": "python3"
  },
  "language_info": {
   "codemirror_mode": {
    "name": "ipython",
    "version": 3
   },
   "file_extension": ".py",
   "mimetype": "text/x-python",
   "name": "python",
   "nbconvert_exporter": "python",
   "pygments_lexer": "ipython3",
   "version": "3.6.5"
  }
 },
 "nbformat": 4,
 "nbformat_minor": 2
}
