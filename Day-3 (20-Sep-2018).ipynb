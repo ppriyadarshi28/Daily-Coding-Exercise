{
 "cells": [
  {
   "cell_type": "markdown",
   "metadata": {},
   "source": [
    "ASKED IN AMAZON\n",
    "\n",
    "Problem Statement: Given a 2D array of integers sorted in ascending order both row and column wise. Find out the number of negative elements in the array.\n",
    "\n",
    "Condition: Time complexity of the solution should be O(n+m) where n is the number of rows and m is the number of columns\n",
    "\n",
    "Example: For the array [[-5,-4,-3,1],[-4,-3,1,2],[-3,1,2,3]], the output woulld be 6 since there are 6 negative elements"
   ]
  },
  {
   "cell_type": "code",
   "execution_count": 8,
   "metadata": {},
   "outputs": [
    {
     "name": "stdout",
     "output_type": "stream",
     "text": [
      "Enter any number at index [0,0]: -5\n",
      "Enter any number at index [0,1]: -4\n",
      "Enter any number at index [0,2]: -3\n",
      "Enter any number at index [0,3]: 1\n",
      "Enter any number at index [1,0]: -3\n",
      "Enter any number at index [1,1]: -2\n",
      "Enter any number at index [1,2]: 1\n",
      "Enter any number at index [1,3]: 2\n",
      "Enter any number at index [2,0]: 1\n",
      "Enter any number at index [2,1]: 2\n",
      "Enter any number at index [2,2]: 3\n",
      "Enter any number at index [2,3]: 4\n",
      "Given array is [[-5, -4, -3, 1], [-3, -2, 1, 2], [1, 2, 3, 4]]\n",
      "Number of negative elements in the array are: 5\n"
     ]
    }
   ],
   "source": [
    "def arr_2d(row,col):\n",
    "    '''\n",
    "    DOCSTRING: Function to generate a 2D array in Python\n",
    "    INPUT: Number of rows, Number of columns\n",
    "    OUTPUT: 2D array\n",
    "    '''\n",
    "    \n",
    "    #Default 2D array with every element as 0\n",
    "    arr = [[0 for j in range(col)] for i in range(row)]\n",
    "    \n",
    "    for i in range(row):\n",
    "        for j in range(col):\n",
    "            arr[i][j] = int(input(f'Enter any number at index [{i},{j}]: '))      \n",
    "    return arr\n",
    "\n",
    "def neg_element_cnt_2d_arr(arr):\n",
    "    '''\n",
    "    DOCSTRING: Function to count number of negative element in a given 2D array sorted in ascending order both\n",
    "               row and column wise.\n",
    "    INPUT: 2D Array\n",
    "    OUTPUT: Count of negative elements\n",
    "    '''\n",
    "    i = 0\n",
    "    j = len(arr[0]) - 1\n",
    "    row = len(arr) - 1\n",
    "    col = len(arr[0]) - 1\n",
    "    count = 0\n",
    "    \n",
    "    while i <= row and j >= 0:\n",
    "        if arr[i][j] > 0:\n",
    "            j = j - 1\n",
    "        else:\n",
    "            count += j + 1\n",
    "            i = i + 1\n",
    "    return count\n",
    "        \n",
    "#Creating 2D array\n",
    "arr = arr_2d(3,4)\n",
    "print (f'Given array is {arr}')\n",
    "\n",
    "#Finding number of negative elements in the 2D array\n",
    "print (f'Number of negative elements in the array are: {neg_element_cnt_2d_arr(arr)}')\n",
    "\n",
    "    \n",
    "    "
   ]
  }
 ],
 "metadata": {
  "kernelspec": {
   "display_name": "Python 3",
   "language": "python",
   "name": "python3"
  },
  "language_info": {
   "codemirror_mode": {
    "name": "ipython",
    "version": 3
   },
   "file_extension": ".py",
   "mimetype": "text/x-python",
   "name": "python",
   "nbconvert_exporter": "python",
   "pygments_lexer": "ipython3",
   "version": "3.6.5"
  }
 },
 "nbformat": 4,
 "nbformat_minor": 2
}
