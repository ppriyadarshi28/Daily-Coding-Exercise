{
 "cells": [
  {
   "cell_type": "markdown",
   "metadata": {},
   "source": [
    "ASKED IN AMAZON \n",
    "\n",
    "Problem Statement: Given a staircase of N steps, find the number of ways in which a person can climb it if he/she can take X step(s) in each time. Here X is the set of steps a person can take.\n",
    "\n",
    "Example: X=[1,2] means the person can take either 1 or 2 step(s) each time."
   ]
  },
  {
   "cell_type": "code",
   "execution_count": 124,
   "metadata": {},
   "outputs": [],
   "source": [
    "def stairs_num_ways(N,steps):\n",
    "    '''\n",
    "    DOCSTRING: Function to find the number of ways a person can climb N steps where he can take X step(s) each time.\n",
    "    INPUT: 1. Number of steps in the staircase 2. List of steps a person can take each time (must be greater than 0)\n",
    "    OUTPUR: Number of ways staircase can be climbed up\n",
    "    TIME COMPLEXITY: O(2^n)\n",
    "    '''\n",
    "    \n",
    "    total = 0\n",
    "    \n",
    "    #Base case\n",
    "    if N == 0:\n",
    "        return 1\n",
    "    \n",
    "    for i in steps:\n",
    "        if N - i >= 0:\n",
    "            #Recursive case\n",
    "            total +=  stairs_num_ways(N-i,steps)\n",
    "    return total"
   ]
  },
  {
   "cell_type": "code",
   "execution_count": 125,
   "metadata": {},
   "outputs": [
    {
     "data": {
      "text/plain": [
       "13"
      ]
     },
     "execution_count": 125,
     "metadata": {},
     "output_type": "execute_result"
    }
   ],
   "source": [
    "stairs_num_ways(6,[1,2])"
   ]
  },
  {
   "cell_type": "code",
   "execution_count": null,
   "metadata": {},
   "outputs": [],
   "source": []
  }
 ],
 "metadata": {
  "kernelspec": {
   "display_name": "Python 3",
   "language": "python",
   "name": "python3"
  },
  "language_info": {
   "codemirror_mode": {
    "name": "ipython",
    "version": 3
   },
   "file_extension": ".py",
   "mimetype": "text/x-python",
   "name": "python",
   "nbconvert_exporter": "python",
   "pygments_lexer": "ipython3",
   "version": "3.6.5"
  }
 },
 "nbformat": 4,
 "nbformat_minor": 2
}
