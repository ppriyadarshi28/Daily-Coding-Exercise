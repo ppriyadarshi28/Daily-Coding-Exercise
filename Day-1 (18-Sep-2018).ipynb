{
 "cells": [
  {
   "cell_type": "code",
   "execution_count": null,
   "metadata": {},
   "outputs": [],
   "source": [
    "#Check if the given number is prime.\n",
    "#The function 'isprime(num)' returns True if the number passsed as an argument is prime else it reuturn False\n",
    "import math\n",
    "\n",
    "def isprime(num):\n",
    "    '''\n",
    "    DOCSTRING: Function to check if a given number is prime\n",
    "    INPUT: Number to be checked for prime\n",
    "    OUTPUT: True if the number is prime else False\n",
    "    '''\n",
    "    \n",
    "    if (num > 2 and num%2 == 0) or (num < 2) :\n",
    "        return False\n",
    "    for i in range(3,int(math.sqrt(num))+1,2):\n",
    "        if num%i == 0:\n",
    "            return False\n",
    "            break\n",
    "    else:\n",
    "        return True"
   ]
  },
  {
   "cell_type": "code",
   "execution_count": null,
   "metadata": {},
   "outputs": [],
   "source": [
    "isprime(2)"
   ]
  },
  {
   "cell_type": "code",
   "execution_count": null,
   "metadata": {},
   "outputs": [],
   "source": [
    "#Print all the prime numbers till the given number\n",
    "#The function 'listprimes(n)' will list all the prime numbers till n.\n",
    "import math\n",
    "\n",
    "def listprimes(n):\n",
    "    '''\n",
    "    DOCSTRING: Function to list the prime numbers till n\n",
    "    INPUT: Number upto which the prime numbers need to be printed\n",
    "    OUTPUT: List of primes till n\n",
    "    '''\n",
    "    primes = [2]\n",
    "    for num in range(3,n+1,2):\n",
    "        for i in range(3,int(math.sqrt(num))+1,2):\n",
    "            if num%i == 0:\n",
    "                break\n",
    "        else:\n",
    "            primes.append(num)\n",
    "    return primes"
   ]
  },
  {
   "cell_type": "code",
   "execution_count": null,
   "metadata": {},
   "outputs": [],
   "source": [
    "listprimes(30)"
   ]
  },
  {
   "cell_type": "code",
   "execution_count": null,
   "metadata": {},
   "outputs": [],
   "source": [
    "#Function ispalindrome(num) prints the reverse of the given number and checks if the number is a palindrome\n",
    "def ispalindrome(num):\n",
    "    '''\n",
    "    DOCSTRING: Fuction to print he reverse of the given number and check if the number is a palindrome\n",
    "    INPUT: Number to be checked for palindrome\n",
    "    OUTPUT: The reverse of the given number and prints if the number is a palindrome\n",
    "    '''\n",
    "    \n",
    "    num_copy = num\n",
    "    rev = 0\n",
    "    \n",
    "    while num_copy > 0:\n",
    "        rem = int(num_copy%10)\n",
    "        rev = rev*10 + rem\n",
    "        num_copy = int(num_copy/10)\n",
    "        \n",
    "    print (f'The reverse of {num} is {rev}')\n",
    "    \n",
    "    if num == rev:\n",
    "        print (f'{num} is a palindrome')\n",
    "    else:\n",
    "        print (f'{num} is not a palindrome')"
   ]
  },
  {
   "cell_type": "code",
   "execution_count": null,
   "metadata": {},
   "outputs": [],
   "source": [
    "ispalindrome(1234321)"
   ]
  },
  {
   "cell_type": "code",
   "execution_count": 2,
   "metadata": {},
   "outputs": [],
   "source": [
    "#Function dec2bin(num) gives the binary representation of a given decimal integer num\n",
    "\n",
    "def dec2bin(num):\n",
    "    '''\n",
    "    DOCSTRING: Function to convert the decimal integer into it's binary equivalent\n",
    "    INPUT: Any decimal positive integer\n",
    "    OUTPUT: Binary equivalent of the given number\n",
    "    '''\n",
    "    binary = []\n",
    "    while num > 0:\n",
    "        binary.append(str(int(num%2)))\n",
    "        num = int(num/2)\n",
    "    return ''.join(binary[::-1])\n",
    "        "
   ]
  },
  {
   "cell_type": "code",
   "execution_count": 4,
   "metadata": {},
   "outputs": [
    {
     "data": {
      "text/plain": [
       "'11011'"
      ]
     },
     "execution_count": 4,
     "metadata": {},
     "output_type": "execute_result"
    }
   ],
   "source": [
    "dec2bin(27)"
   ]
  },
  {
   "cell_type": "code",
   "execution_count": null,
   "metadata": {},
   "outputs": [],
   "source": []
  }
 ],
 "metadata": {
  "kernelspec": {
   "display_name": "Python 3",
   "language": "python",
   "name": "python3"
  },
  "language_info": {
   "codemirror_mode": {
    "name": "ipython",
    "version": 3
   },
   "file_extension": ".py",
   "mimetype": "text/x-python",
   "name": "python",
   "nbconvert_exporter": "python",
   "pygments_lexer": "ipython3",
   "version": "3.6.5"
  }
 },
 "nbformat": 4,
 "nbformat_minor": 2
}
