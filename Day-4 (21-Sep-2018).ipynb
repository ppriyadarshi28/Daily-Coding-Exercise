{
 "cells": [
  {
   "cell_type": "markdown",
   "metadata": {},
   "source": [
    "ASKED IN AMAZON\n",
    "\n",
    "Problem Statement: Given an array of positive integers, find the number of subsets whose elements add upto a given number.\n",
    "\n",
    "Example: For the array [2,4,6,10], number of subsets whose elements add upto 16 are 2 i.e [2,4,10] and [6,10] "
   ]
  },
  {
   "cell_type": "code",
   "execution_count": 15,
   "metadata": {},
   "outputs": [],
   "source": [
    "def count_sets(arr,total,i):\n",
    "    '''\n",
    "    DOCSTRING: Function to find the number of subsets for a given array, whose elements add upto a given total\n",
    "    INPUT: 1. Array 2. Total 3. Index position to start from\n",
    "    OUTPUT: Number of subsets with sum of elements equal to total\n",
    "    Time complexity: O(2^n)\n",
    "    '''\n",
    "    \n",
    "    #Base case\n",
    "    if total == 0:\n",
    "        return 1\n",
    "    elif total < 0:\n",
    "        return 0\n",
    "    elif i < 0:\n",
    "        return 0\n",
    "    #Recursive call to the function 'count_sets'\n",
    "    elif total < arr[i]:\n",
    "        return count_sets(arr,total,i-1)\n",
    "    else:\n",
    "        return count_sets(arr,total,i-1) + count_sets(arr,total - arr[i],i-1)"
   ]
  },
  {
   "cell_type": "code",
   "execution_count": 16,
   "metadata": {},
   "outputs": [
    {
     "data": {
      "text/plain": [
       "2"
      ]
     },
     "execution_count": 16,
     "metadata": {},
     "output_type": "execute_result"
    }
   ],
   "source": [
    "arr = [2,4,6,10]\n",
    "total = 16\n",
    "i = len(arr) - 1\n",
    "\n",
    "count_sets(arr,total,i)"
   ]
  }
 ],
 "metadata": {
  "kernelspec": {
   "display_name": "Python 3",
   "language": "python",
   "name": "python3"
  },
  "language_info": {
   "codemirror_mode": {
    "name": "ipython",
    "version": 3
   },
   "file_extension": ".py",
   "mimetype": "text/x-python",
   "name": "python",
   "nbconvert_exporter": "python",
   "pygments_lexer": "ipython3",
   "version": "3.6.5"
  }
 },
 "nbformat": 4,
 "nbformat_minor": 2
}
