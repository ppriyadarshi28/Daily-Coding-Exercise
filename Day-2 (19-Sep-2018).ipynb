{
 "cells": [
  {
   "cell_type": "code",
   "execution_count": 6,
   "metadata": {},
   "outputs": [],
   "source": [
    "#Function factorial(num) to find the factorial of a given number\n",
    "#We will solve this problem using recursion\n",
    "\n",
    "def factorial(num):\n",
    "    '''\n",
    "    DOCSTRING: Function to find the factorial of a given number\n",
    "    INPUT: Number for which factorial needs to be found\n",
    "    OUTPUT: Factorial of the number\n",
    "    '''\n",
    "    \n",
    "    #Base case\n",
    "    if num == 0:\n",
    "        return 1\n",
    "    #Handling the negative integers\n",
    "    elif num < 0:\n",
    "        print ('Factorial is defined only for non-negative integers')\n",
    "    else:\n",
    "        #Recursive call to the function factorial\n",
    "        return num * factorial(num-1)"
   ]
  },
  {
   "cell_type": "code",
   "execution_count": 10,
   "metadata": {},
   "outputs": [
    {
     "data": {
      "text/plain": [
       "5040"
      ]
     },
     "execution_count": 10,
     "metadata": {},
     "output_type": "execute_result"
    }
   ],
   "source": [
    "factorial(7)"
   ]
  },
  {
   "cell_type": "code",
   "execution_count": 20,
   "metadata": {},
   "outputs": [
    {
     "name": "stdout",
     "output_type": "stream",
     "text": [
      "[1, 1, 2, 3, 5, 8, 13, 21, 34, 55]\n"
     ]
    }
   ],
   "source": [
    "#Function fib(n) to generate fibonacci number\n",
    "'''\n",
    "Fibonacci Series: a series of numbers in which each number ( Fibonacci number ) is the sum \n",
    "of the two preceding numbers. The simplest is the series 1, 1, 2, 3, 5, 8, etc. \n",
    "'''\n",
    "#We will use recursion to solve this problem\n",
    "def fib(n):\n",
    "    '''\n",
    "    DOCSTRING: Function to generate the fibonacci number\n",
    "    INPUT: Position of the number in fibonacci series\n",
    "    OUTPUT: Fibonacci number\n",
    "    '''\n",
    "    #Base case\n",
    "    if n == 1 or n == 2:\n",
    "        return 1\n",
    "    else:\n",
    "        #Recursive call to the function fib\n",
    "        return fib(n-1) + fib(n-2)\n",
    "\n",
    "fib_list=[]\n",
    "fib_len=10\n",
    "#Generating fibonacci series of length fib_len\n",
    "for i in range(1,fib_len+1):\n",
    "    fib_list.append(fib(i))\n",
    "print(fib_list)"
   ]
  },
  {
   "cell_type": "code",
   "execution_count": 7,
   "metadata": {},
   "outputs": [],
   "source": [
    "#Function firstrecurringchar(string) to find the first recurring character in a given string\n",
    "#The below function has a time complexity of O(n)\n",
    "\n",
    "def firstrecurringchar(string):\n",
    "    '''\n",
    "    DOCSTRING: Function to find the first recurring character in a given string\n",
    "    INPUT: String\n",
    "    OUTPUT: First recurring character\n",
    "    '''\n",
    "    \n",
    "    hash_tbl = {}\n",
    "    for char in string:\n",
    "        if char in hash_tbl:\n",
    "            return char\n",
    "        else:\n",
    "            hash_tbl[char] = 1"
   ]
  },
  {
   "cell_type": "code",
   "execution_count": 8,
   "metadata": {},
   "outputs": [
    {
     "data": {
      "text/plain": [
       "'a'"
      ]
     },
     "execution_count": 8,
     "metadata": {},
     "output_type": "execute_result"
    }
   ],
   "source": [
    "firstrecurringchar('Priyadarshi')"
   ]
  },
  {
   "cell_type": "code",
   "execution_count": 21,
   "metadata": {},
   "outputs": [],
   "source": [
    "#Function arr_2d(row,col) to define a 2D array in Python.\n",
    "#It will ask for the array elements from the user\n",
    "#It will then display the array to the user.\n",
    "\n",
    "def arr_2d(row,col):\n",
    "    '''\n",
    "    DOCSTRING: Function to generate a 2D array in Python\n",
    "    INPUT: Number of rows, Number of columns\n",
    "    '''\n",
    "    \n",
    "    #Default 2D array with every element as 0\n",
    "    arr = [[0 for j in range(col)] for i in range(row)]\n",
    "    \n",
    "    for i in range(row):\n",
    "        for j in range(col):\n",
    "            arr[i][j] = input(f'Enter any number at index [{i},{j}]: ')\n",
    "    print('\\nArray created by user is: \\n')      \n",
    "    print (arr)"
   ]
  },
  {
   "cell_type": "code",
   "execution_count": 22,
   "metadata": {},
   "outputs": [
    {
     "name": "stdout",
     "output_type": "stream",
     "text": [
      "Enter any number at index [0,0]: 1\n",
      "Enter any number at index [0,1]: 2\n",
      "Enter any number at index [0,2]: 3\n",
      "Enter any number at index [0,3]: 4\n",
      "Enter any number at index [1,0]: 5\n",
      "Enter any number at index [1,1]: 6\n",
      "Enter any number at index [1,2]: 7\n",
      "Enter any number at index [1,3]: 8\n",
      "Enter any number at index [2,0]: 9\n",
      "Enter any number at index [2,1]: 10\n",
      "Enter any number at index [2,2]: 11\n",
      "Enter any number at index [2,3]: 12\n",
      "\n",
      "Array created by user is: \n",
      "\n",
      "[['1', '2', '3', '4'], ['5', '6', '7', '8'], ['9', '10', '11', '12']]\n"
     ]
    }
   ],
   "source": [
    "arr_2d(3,4)"
   ]
  },
  {
   "cell_type": "code",
   "execution_count": null,
   "metadata": {},
   "outputs": [],
   "source": []
  }
 ],
 "metadata": {
  "kernelspec": {
   "display_name": "Python 3",
   "language": "python",
   "name": "python3"
  },
  "language_info": {
   "codemirror_mode": {
    "name": "ipython",
    "version": 3
   },
   "file_extension": ".py",
   "mimetype": "text/x-python",
   "name": "python",
   "nbconvert_exporter": "python",
   "pygments_lexer": "ipython3",
   "version": "3.6.5"
  }
 },
 "nbformat": 4,
 "nbformat_minor": 2
}
